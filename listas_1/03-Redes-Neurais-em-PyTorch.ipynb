{
  "nbformat": 4,
  "nbformat_minor": 0,
  "metadata": {
    "colab": {
      "provenance": [],
      "include_colab_link": true
    },
    "kernelspec": {
      "name": "python3",
      "display_name": "Python 3"
    },
    "accelerator": "GPU",
    "gpuClass": "standard"
  },
  "cells": [
    {
      "cell_type": "markdown",
      "metadata": {
        "id": "view-in-github",
        "colab_type": "text"
      },
      "source": [
        "<a href=\"https://colab.research.google.com/github/ronaldrnunes/dl_notebooks/blob/main/listas/03-Redes-Neurais-em-PyTorch.ipynb\" target=\"_parent\"><img src=\"https://colab.research.google.com/assets/colab-badge.svg\" alt=\"Open In Colab\"/></a>"
      ]
    },
    {
      "cell_type": "markdown",
      "metadata": {
        "id": "NG-mVsVuE0if"
      },
      "source": [
        "# Preâmbulo\n",
        "\n",
        "Imports, funções, downloads e instalação do Pytorch."
      ]
    },
    {
      "cell_type": "code",
      "metadata": {
        "id": "fEHmMCjR4PJw"
      },
      "source": [
        "# Basic imports.\n",
        "import os\n",
        "import time\n",
        "import numpy as np\n",
        "import torch\n",
        "\n",
        "from torch.autograd import Variable\n",
        "import torch.nn.functional as F\n",
        "\n",
        "from torch import nn\n",
        "from torch import optim\n",
        "\n",
        "from torch.utils.data import DataLoader\n",
        "from torch.utils import data\n",
        "from torch.backends import cudnn\n",
        "\n",
        "from torchvision import models\n",
        "from torchvision import datasets\n",
        "from torchvision import transforms\n",
        "\n",
        "from skimage import io\n",
        "\n",
        "from sklearn import metrics\n",
        "\n",
        "from matplotlib import pyplot as plt\n",
        "\n",
        "%matplotlib inline\n",
        "\n",
        "cudnn.benchmark = True"
      ],
      "execution_count": 1,
      "outputs": []
    },
    {
      "cell_type": "markdown",
      "metadata": {
        "id": "oQa4-lUw7Rmp"
      },
      "source": [
        "## Casting para o dispositivo correto\n",
        "\n",
        "Como usaremos processamento vetorial principalmente em GPUs para aprendizado profundo, primeiramente é possível verificar se há uma GPU disponível com o trecho de código abaixo, armazenando os tensores nos dispositivos apropriados."
      ]
    },
    {
      "cell_type": "code",
      "metadata": {
        "id": "yX0bBEM863sY",
        "outputId": "4312f481-e9f0-4c4e-a11a-dd0f30aca459",
        "colab": {
          "base_uri": "https://localhost:8080/"
        }
      },
      "source": [
        "# Checking if GPU/CUDA is available.\n",
        "if torch.cuda.is_available():\n",
        "    device = torch.device('cuda')\n",
        "else:\n",
        "    device = torch.device('cpu')\n",
        "\n",
        "print(device)"
      ],
      "execution_count": 2,
      "outputs": [
        {
          "output_type": "stream",
          "name": "stdout",
          "text": [
            "cuda\n"
          ]
        }
      ]
    },
    {
      "cell_type": "markdown",
      "metadata": {
        "id": "1x5UK0uib2tk"
      },
      "source": [
        "# Intro MLP\n",
        "\n",
        "## Neurônios e a camada `nn.Linear`\n",
        "\n",
        "A camada Linear do Pytorch ([nn.Linear](https://pytorch.org/docs/stable/nn.html#torch.nn.Linear)) é responsável por aplicar uma transformação linear no dado de entrada. Esta camada recebe como parâmetro a dimensão (número de *features*) da entrada e da saída (que na verdade, representa o número de neurônios dessa camada). Por padrão o bias já é incluído. **Um** perceptron pode ser facilmente representado como a seguir, desconsiderando a função de ativação:\n",
        "\n",
        "```\n",
        "linear = nn.Linear(in_dimension, 1)\n",
        "```\n",
        "Mas de uma forma geral, uma camada Linear com diversas *features* de entrada e diversas *features* de saída pode ser representada como:\n",
        "```\n",
        "nn.Linear(in_features, out_features)\n",
        "```\n",
        "![](https://github.com/flaviovdf/deep-ufmg/blob/main/listas/figs/nn_linear.png?raw=1)"
      ]
    },
    {
      "cell_type": "code",
      "metadata": {
        "id": "OlQA_vtGg8bf",
        "outputId": "799bf870-7efc-4d30-e5cf-69274408a50a",
        "colab": {
          "base_uri": "https://localhost:8080/"
        }
      },
      "source": [
        "linear = nn.Linear(2, 1)\n",
        "print(linear)"
      ],
      "execution_count": 3,
      "outputs": [
        {
          "output_type": "stream",
          "name": "stdout",
          "text": [
            "Linear(in_features=2, out_features=1, bias=True)\n"
          ]
        }
      ]
    },
    {
      "cell_type": "markdown",
      "metadata": {
        "id": "6AhNyLrLmFcT"
      },
      "source": [
        "Como é possível ver no código abaixo, o Pytorch já inicia os pesos da camada aleatoriamente."
      ]
    },
    {
      "cell_type": "code",
      "metadata": {
        "id": "fLOlOhQVmPuj",
        "outputId": "d98903dc-912c-41b0-ac4f-2f20132ec6fd",
        "colab": {
          "base_uri": "https://localhost:8080/"
        }
      },
      "source": [
        "for param in linear.parameters():\n",
        "  print(param)"
      ],
      "execution_count": 4,
      "outputs": [
        {
          "output_type": "stream",
          "name": "stdout",
          "text": [
            "Parameter containing:\n",
            "tensor([[-0.3641, -0.5717]], requires_grad=True)\n",
            "Parameter containing:\n",
            "tensor([0.0286], requires_grad=True)\n"
          ]
        }
      ]
    },
    {
      "cell_type": "markdown",
      "metadata": {
        "id": "aAEaJGtDoZD7"
      },
      "source": [
        "O **forward** consiste em passar seu dado de entrada pela rede, gerando um resultado ao final. Considerando a camada linear instanciada anteriormente, o resultado do forward é o mesmo do somatório da multiplicação de seus pesos pelas respectivas entradas juntamente com o bias, ou seja:\n",
        "\n",
        "$$f_w(x) = w_0 + w_1x_1 + w_2x_2 + \\ldots + w_nx_n$$\n",
        "\n",
        "No Pytorch, realizamos o **forward** chamando o objeto onde nossa rede/modelo está instanciada, conforme exemplo abaixo."
      ]
    },
    {
      "cell_type": "code",
      "metadata": {
        "id": "Ibb8t7zpmpUI",
        "outputId": "8c1a7e60-d678-4daf-bbf0-fb511d3bee2c",
        "colab": {
          "base_uri": "https://localhost:8080/"
        }
      },
      "source": [
        "linear = nn.Linear(2, 1)\n",
        "X = torch.tensor([2.0, 3.0]) # dado de entrada de exemplo considerando o perceptron definido como nn.Linear(2,1)\n",
        "print('Pytorch: ', linear(X))\n",
        "\n",
        "# acessamos os pesos do modelo com .weight e o bias com .bias\n",
        "print('Manual: ', torch.sum(X * linear.weight) + linear.bias)"
      ],
      "execution_count": 5,
      "outputs": [
        {
          "output_type": "stream",
          "name": "stdout",
          "text": [
            "Pytorch:  tensor([2.1332], grad_fn=<ViewBackward0>)\n",
            "Manual:  tensor([2.1332], grad_fn=<AddBackward0>)\n"
          ]
        }
      ]
    },
    {
      "cell_type": "code",
      "source": [
        "# Ao fazermos linear(X), estamos fazendo implicitamente uma chamada na função forward da Linear\n",
        "print('Forward com chamada implícita:', linear(X))\n",
        "print('Forward com chamada explícita:', linear.forward(X))"
      ],
      "metadata": {
        "id": "zwjZ4t_MIz58",
        "outputId": "426319d6-8f34-48af-900b-d67b2556c9cb",
        "colab": {
          "base_uri": "https://localhost:8080/"
        }
      },
      "execution_count": 6,
      "outputs": [
        {
          "output_type": "stream",
          "name": "stdout",
          "text": [
            "Forward com chamada implícita: tensor([2.1332], grad_fn=<ViewBackward0>)\n",
            "Forward com chamada explícita: tensor([2.1332], grad_fn=<ViewBackward0>)\n"
          ]
        }
      ]
    },
    {
      "cell_type": "markdown",
      "metadata": {
        "id": "x8LMX6OMrEbw"
      },
      "source": [
        "## Exemplo de uma rede neural simples (1 camada)\n",
        "\n",
        "O código abaixo cria uma rede neural simples usando `nn.Linear` e implementa o fluxo de treinamento para essa rede, ou seja, faz o forward, calcula a loss, e otimiza seus pesos. Invista um pouco de tempo para entender a célula abaixo pois usaremos essa ideia para implementar a função de treino mais a frente."
      ]
    },
    {
      "cell_type": "code",
      "source": [
        "# Iremos criar dados que seguem a função y = 2x + 3\n",
        "dataset = []\n",
        "for x in range(10):\n",
        "    dataset.append((x, 2*x + 3)) # tupla com (x, y)"
      ],
      "metadata": {
        "id": "_uGksRlgJYNb"
      },
      "execution_count": 7,
      "outputs": []
    },
    {
      "cell_type": "code",
      "source": [
        "dataset"
      ],
      "metadata": {
        "id": "Q2MwrrGAmFMZ",
        "outputId": "6a438196-4bbd-4125-c195-26220aee0938",
        "colab": {
          "base_uri": "https://localhost:8080/"
        }
      },
      "execution_count": 8,
      "outputs": [
        {
          "output_type": "execute_result",
          "data": {
            "text/plain": [
              "[(0, 3),\n",
              " (1, 5),\n",
              " (2, 7),\n",
              " (3, 9),\n",
              " (4, 11),\n",
              " (5, 13),\n",
              " (6, 15),\n",
              " (7, 17),\n",
              " (8, 19),\n",
              " (9, 21)]"
            ]
          },
          "metadata": {},
          "execution_count": 8
        }
      ]
    },
    {
      "cell_type": "code",
      "source": [
        "# Definiremos uma loss (erro quadrático -> (y - y_hat)^2)\n",
        "def loss_fn(predict, label):\n",
        "    return torch.pow(label - predict, 2)"
      ],
      "metadata": {
        "id": "UHRwAuyFJvUa"
      },
      "execution_count": 9,
      "outputs": []
    },
    {
      "cell_type": "code",
      "metadata": {
        "id": "YPJ9s5ckoA5T",
        "outputId": "f4017a8d-4487-4c85-8857-23f04cb4dc8b",
        "colab": {
          "base_uri": "https://localhost:8080/"
        }
      },
      "source": [
        "linear = nn.Linear(1, 1) # Camada linear com 1 feature de entrada (mais o bias) e uma de saída\n",
        "linear.to(device) # casting do linear para GPU\n",
        "\n",
        "learning_rate = 0.01\n",
        "print(f'Parâmetros iniciais: {list(linear.parameters())}\\n')\n",
        "\n",
        "for epoch in range(100):\n",
        "    epoch_loss = 0\n",
        "\n",
        "    for X, y in dataset:\n",
        "        # Fazendo o casting dos dados para tensores na GPU\n",
        "        X = torch.FloatTensor([X]).to(device)\n",
        "        y = torch.FloatTensor([y]).to(device)\n",
        "\n",
        "        y_pred = linear(X)  # etapa de forward\n",
        "        loss = loss_fn(y_pred, y)  # calcula a loss\n",
        "        epoch_loss += loss.item()\n",
        "\n",
        "        # Etapa de backprop\n",
        "        loss.backward()\n",
        "        with torch.no_grad(): # não queremos fazer com que o pytorch anote as operações do backprop e acumule o gradiente\n",
        "            for param in linear.parameters():\n",
        "                param -= learning_rate * param.grad  # atualização dos parametros (pesos e bias) com base no gradiente\n",
        "                param.grad.zero_()  # resetando o gradiente\n",
        "\n",
        "    if (epoch + 1) % 10 == 0:\n",
        "        print(\"Epoch {} - loss: {}\".format(epoch + 1, epoch_loss))\n",
        "\n",
        "print('\\nParâmetros finais: ', list(linear.parameters()))"
      ],
      "execution_count": 10,
      "outputs": [
        {
          "output_type": "stream",
          "name": "stdout",
          "text": [
            "Parâmetros iniciais: [Parameter containing:\n",
            "tensor([[-0.7567]], device='cuda:0', requires_grad=True), Parameter containing:\n",
            "tensor([-0.7999], device='cuda:0', requires_grad=True)]\n",
            "\n",
            "Epoch 10 - loss: 8.979296680539846\n",
            "Epoch 20 - loss: 3.103164426982403\n",
            "Epoch 30 - loss: 1.072428963612765\n",
            "Epoch 40 - loss: 0.3706219924497418\n",
            "Epoch 50 - loss: 0.12808438285719603\n",
            "Epoch 60 - loss: 0.04426430755484034\n",
            "Epoch 70 - loss: 0.015297367619496072\n",
            "Epoch 80 - loss: 0.005286561500724929\n",
            "Epoch 90 - loss: 0.0018269676702402649\n",
            "Epoch 100 - loss: 0.0006314236961770803\n",
            "\n",
            "Parâmetros finais:  [Parameter containing:\n",
            "tensor([[2.0015]], device='cuda:0', requires_grad=True), Parameter containing:\n",
            "tensor([2.9855], device='cuda:0', requires_grad=True)]\n"
          ]
        }
      ]
    },
    {
      "cell_type": "code",
      "metadata": {
        "id": "e9uRk8mAwGIB",
        "outputId": "6c52adaf-64e5-47fc-ed89-a99b249d496c",
        "colab": {
          "base_uri": "https://localhost:8080/"
        }
      },
      "source": [
        "X = torch.FloatTensor([20]).to(device)\n",
        "print(linear(X)) # forward do valor 20 para conferir resultado, saida deve ser aproximadamente = 2x+3 = 2*20+3 = 43"
      ],
      "execution_count": 11,
      "outputs": [
        {
          "output_type": "stream",
          "name": "stdout",
          "text": [
            "tensor([43.0162], device='cuda:0', grad_fn=<ViewBackward0>)\n"
          ]
        }
      ]
    },
    {
      "cell_type": "markdown",
      "metadata": {
        "id": "3f-q6bCNzEmx"
      },
      "source": [
        "## O módulo `nn.Sequential`\n",
        "\n",
        "Na prática, criaremos redes com diversas camadas. O bloco `nn.Sequential` permite agrupar as camadas de forma sequencial para que o forward seja realizado na ordem desejada. Veja um exemplo para um *Multilayer Perceptron (MLP)* abaixo."
      ]
    },
    {
      "cell_type": "code",
      "metadata": {
        "id": "LCK_OkqCzdUW",
        "outputId": "c7c8db30-4e2a-4b64-ed11-c06033183b7e",
        "colab": {
          "base_uri": "https://localhost:8080/"
        }
      },
      "source": [
        "in_features = 28\n",
        "out_features = 8\n",
        "\n",
        "first_hidden_size = 64\n",
        "second_hidden_size = 32\n",
        "\n",
        "MLP = nn.Sequential(\n",
        "    nn.Linear(in_features, first_hidden_size), nn.ReLU(),\n",
        "    nn.Linear(first_hidden_size, second_hidden_size), nn.ReLU(),\n",
        "    nn.Linear(second_hidden_size, out_features)\n",
        ")\n",
        "\n",
        "print(MLP)"
      ],
      "execution_count": 12,
      "outputs": [
        {
          "output_type": "stream",
          "name": "stdout",
          "text": [
            "Sequential(\n",
            "  (0): Linear(in_features=28, out_features=64, bias=True)\n",
            "  (1): ReLU()\n",
            "  (2): Linear(in_features=64, out_features=32, bias=True)\n",
            "  (3): ReLU()\n",
            "  (4): Linear(in_features=32, out_features=8, bias=True)\n",
            ")\n"
          ]
        }
      ]
    },
    {
      "cell_type": "code",
      "metadata": {
        "id": "mkhjCepK0kjJ",
        "outputId": "bb09a4d7-69b3-486f-c36f-ca36b6e7bf4c",
        "colab": {
          "base_uri": "https://localhost:8080/"
        }
      },
      "source": [
        "test_data = torch.randn((10, 28)) # 10 dados de input aleatórios com 28 features\n",
        "\n",
        "output = MLP(test_data) # forward da rede\n",
        "print(output.size())"
      ],
      "execution_count": 13,
      "outputs": [
        {
          "output_type": "stream",
          "name": "stdout",
          "text": [
            "torch.Size([10, 8])\n"
          ]
        }
      ]
    },
    {
      "cell_type": "markdown",
      "metadata": {
        "id": "dfb4zBjO0Lua"
      },
      "source": [
        "Informação sobre outras camadas lineares, como nn.Bilinear e nn.Identity, podem ser vistas na documentação: https://pytorch.org/docs/stable/nn.html#linear-layers"
      ]
    },
    {
      "cell_type": "markdown",
      "metadata": {
        "id": "E9LoXL0cUYMT"
      },
      "source": [
        "## Conjunto de Exercícios 1 - Implementação de uma MLP\n",
        "\n",
        "Vamos agora treinar um MLP simples no dataset de [Breast Cancer da UCI](https://archive.ics.uci.edu/ml/datasets/Breast+Cancer+Wisconsin+(Diagnostic)). A célula abaixo irá carregar os dados utilizando a biblioteca scikit-learn, que já possui o dataset pronto para utilizarmos.\n",
        "\n",
        "- Neste exercício, não estamos interessados em trabalhar com dados de treino/teste, mas sim apenas estudar como definir uma rede neural de múltiplas camadas em PyTorch e realizar o treinamento dos seus pesos e viéses."
      ]
    },
    {
      "cell_type": "code",
      "metadata": {
        "id": "Vi3Zh8fQ4X_3",
        "outputId": "d55ceba0-3e94-4015-d0d9-b00b74ce84ad",
        "colab": {
          "base_uri": "https://localhost:8080/"
        }
      },
      "source": [
        "from sklearn.datasets import load_breast_cancer\n",
        "\n",
        "X, y = load_breast_cancer(return_X_y=True)\n",
        "\n",
        "# Convertendo os dados para tensores PyTorch e fazendo o casting para o dispositivo apropriado\n",
        "X = torch.FloatTensor(X).to(device)\n",
        "y = torch.FloatTensor(y).to(device)\n",
        "\n",
        "# Modificando o shape das anotações para ser um vetor (n, 1) para não gerar erros no cálculo da função de perda\n",
        "# Isso é necessário pois os produtos internos feitos no PyTorch irá resultar em uma matriz (n, 1), ou seja, n-linhas\n",
        "# onde cada linha terá um valor binário (classe daquela observação)\n",
        "y = y.reshape(y.shape[0], 1)\n",
        "\n",
        "# Exibindo o tamanho dos tensores\n",
        "print('Tamanho de X: ', X.size())\n",
        "print('Tamanho de y: ', y.size())"
      ],
      "execution_count": 15,
      "outputs": [
        {
          "output_type": "stream",
          "name": "stdout",
          "text": [
            "Tamanho de X:  torch.Size([569, 30])\n",
            "Tamanho de y:  torch.Size([569, 1])\n"
          ]
        }
      ]
    },
    {
      "cell_type": "code",
      "source": [
        "print('Labels dos dados:', torch.unique(y))"
      ],
      "metadata": {
        "id": "EjahTNqATUvu"
      },
      "execution_count": null,
      "outputs": []
    },
    {
      "cell_type": "markdown",
      "metadata": {
        "id": "ZMDN1viW-0Eg"
      },
      "source": [
        "1. Implemente na célula abaixo uma MLP, de nome **model**, utilizando o módulo `nn.Sequential`. A sua rede MLP deve possuir, pelo menos, uma camada escondida, usando uma ReLU como função de ativação entre as camadas.\n",
        "\n",
        "    - Note que o nosso problema é um problema de classificação binária. Iremos utilizar uma função de perda do PyTorch que recebe como entrada a saída \"crua\" (*logits*) da sua rede neural. Sendo assim, não se preocupe em aplicar alguma transformação na saída (como uma sigmóide) para converter os valores para uma probabilidade, por exemplo."
      ]
    },
    {
      "cell_type": "code",
      "metadata": {
        "id": "zYO7HWC29Ahy",
        "outputId": "a7efcd40-0d7c-4164-9cb2-2ae9c2002a8d",
        "colab": {
          "base_uri": "https://localhost:8080/"
        }
      },
      "source": [
        "model = nn.Sequential(\n",
        "    # implemente aqui a sua solução!\n",
        "\n",
        "    nn.Linear(30, 8),\n",
        "    nn.ReLU(),\n",
        "\n",
        "    nn.Linear(8, 4),\n",
        "    nn.ReLU(),\n",
        "\n",
        "    nn.Linear(4, 1)\n",
        ")\n",
        "\n",
        "model.to(device)  # sempre é necessario fazer o casting da rede para jogá-la para GPU\n",
        "print(model)"
      ],
      "execution_count": 17,
      "outputs": [
        {
          "output_type": "stream",
          "name": "stdout",
          "text": [
            "Sequential(\n",
            "  (0): Linear(in_features=30, out_features=8, bias=True)\n",
            "  (1): ReLU()\n",
            "  (2): Linear(in_features=8, out_features=4, bias=True)\n",
            "  (3): ReLU()\n",
            "  (4): Linear(in_features=4, out_features=1, bias=True)\n",
            ")\n"
          ]
        }
      ]
    },
    {
      "cell_type": "markdown",
      "metadata": {
        "id": "BWrn_MUHBz7o"
      },
      "source": [
        "Abaixo, definimos uma loss e um otimizador usando o PyTorch. Não se preocupem como isso funciona agora, pois iremos ver em detalhes como definir e usar diferentes losses e otimizadores com o PyTorch."
      ]
    },
    {
      "cell_type": "code",
      "source": [
        "# Iremos utilizar a entropia cruzada binária como função de perda para o nosso problema\n",
        "# Essa versão da BCE aceita como entrada a saída \"crua\" (logits) da sua rede neural.\n",
        "# Outras versões, como a BCELoss aceita como entrada uma saída probabilística da sua rede neural (sigmoid ou softmax),\n",
        "# sendo assim você deve colocar uma função de ativação depois do último nn.Linear do seu modelo.\n",
        "# A versão BCEWithLogitsLoss implementa uma versão mais numericamente estável da loss, podemos observar isso na própria\n",
        "# documentação do PyTorch: https://pytorch.org/docs/stable/generated/torch.nn.BCEWithLogitsLoss.html?highlight=bcewithlogitsloss#torch.nn.BCEWithLogitsLoss\n",
        "criterion = nn.BCEWithLogitsLoss()"
      ],
      "metadata": {
        "id": "IgEeodMiSmuO"
      },
      "execution_count": 18,
      "outputs": []
    },
    {
      "cell_type": "code",
      "metadata": {
        "id": "Oa5DcYBf82iD"
      },
      "source": [
        "# Iremos utilizar o pacote optim para definir um otimizador que irá atualizar os pesos do modelo para nós.\n",
        "# Aqui, utilizaremos SGD - Gradiente Descendente Estocástico.\n",
        "# O pacote optim contém muitos outros algoritmos de otimização, porém, em todos o primeiro parâmetro irá dizer para os\n",
        "# otimizadores quais tensores (com requires_grad=True) do nosso modelo ele deverá otimizar.\n",
        "import torch.optim as optim\n",
        "\n",
        "learning_rate = 1e-4\n",
        "optimizer = optim.SGD(model.parameters(), lr=learning_rate)"
      ],
      "execution_count": 19,
      "outputs": []
    },
    {
      "cell_type": "markdown",
      "metadata": {
        "id": "JPQtOnNr-kAG"
      },
      "source": [
        "Abaixo teremos um loop de treinamento típico de PyTorch. Não precisa modificar em nada essa funçao, porém estude ela mesmo assim, já que usaremos esse fluxo como template para treinamento de outros modelos mais a frente no curso."
      ]
    },
    {
      "cell_type": "code",
      "metadata": {
        "id": "dsMFRIDv80I3",
        "outputId": "8f3bf6b1-4178-430b-91d4-a0f0eae1ecd7",
        "colab": {
          "base_uri": "https://localhost:8080/"
        }
      },
      "source": [
        "# Aqui iremos criar uma lista de loss para cada época\n",
        "loss_list = []\n",
        "\n",
        "# Iterando sobre as épocas\n",
        "n_epochs = 500\n",
        "for epoch in range(n_epochs):\n",
        "    preds = model(X)\n",
        "    loss = criterion(preds, y)\n",
        "\n",
        "    # Salvando a loss da iteração atual (para plots futuros)\n",
        "    loss_list.append(loss.item())\n",
        "\n",
        "    # Antes de fazermos o backward pass, iremos zerar o gradiente de todos os tensores\n",
        "    # atrelados ao otimizador utilizando a chamada de função .zero_grad() do nosso otimizador.\n",
        "    # Faremos isso pois os gradientes são acumulados, sempre que chamamos .backward(), em buffers nos\n",
        "    # tensores que representam os pesos dos nossos modelos, ou seja, não são sobrescritos.\n",
        "    # Para mais detalhes, você pode dar uma olhada na documentação do torch.autograd.backward\n",
        "    optimizer.zero_grad()\n",
        "\n",
        "    # Realizando o backward pass, ou seja, computando os gradientes da nossa função de perda\n",
        "    # com respeito aos parâmetros (pesos) do nosso modelo\n",
        "    loss.backward()\n",
        "\n",
        "    # Chamando a função .step() do nosso otimizador para realizar um \"passo\" na otimização.\n",
        "    # Nesse caso, o \"passo\" será realizar o cálculo que vimos do gradiente descendente\n",
        "    optimizer.step()\n",
        "\n",
        "    if (epoch + 1) % 10 == 0:\n",
        "        print(f'Epoch {epoch + 1}: loss = {loss.item():.5f}')"
      ],
      "execution_count": 20,
      "outputs": [
        {
          "output_type": "stream",
          "name": "stdout",
          "text": [
            "Epoch 10: loss = 0.88114\n",
            "Epoch 20: loss = 0.86085\n",
            "Epoch 30: loss = 0.85422\n",
            "Epoch 40: loss = 0.84790\n",
            "Epoch 50: loss = 0.84185\n",
            "Epoch 60: loss = 0.83607\n",
            "Epoch 70: loss = 0.83053\n",
            "Epoch 80: loss = 0.82523\n",
            "Epoch 90: loss = 0.82014\n",
            "Epoch 100: loss = 0.81527\n",
            "Epoch 110: loss = 0.81058\n",
            "Epoch 120: loss = 0.80608\n",
            "Epoch 130: loss = 0.80176\n",
            "Epoch 140: loss = 0.79760\n",
            "Epoch 150: loss = 0.79360\n",
            "Epoch 160: loss = 0.78974\n",
            "Epoch 170: loss = 0.78602\n",
            "Epoch 180: loss = 0.78244\n",
            "Epoch 190: loss = 0.77899\n",
            "Epoch 200: loss = 0.77565\n",
            "Epoch 210: loss = 0.77243\n",
            "Epoch 220: loss = 0.76932\n",
            "Epoch 230: loss = 0.76631\n",
            "Epoch 240: loss = 0.76340\n",
            "Epoch 250: loss = 0.76059\n",
            "Epoch 260: loss = 0.75787\n",
            "Epoch 270: loss = 0.75523\n",
            "Epoch 280: loss = 0.75268\n",
            "Epoch 290: loss = 0.75020\n",
            "Epoch 300: loss = 0.74780\n",
            "Epoch 310: loss = 0.74548\n",
            "Epoch 320: loss = 0.74322\n",
            "Epoch 330: loss = 0.74103\n",
            "Epoch 340: loss = 0.73891\n",
            "Epoch 350: loss = 0.73684\n",
            "Epoch 360: loss = 0.73484\n",
            "Epoch 370: loss = 0.73289\n",
            "Epoch 380: loss = 0.73099\n",
            "Epoch 390: loss = 0.72915\n",
            "Epoch 400: loss = 0.72736\n",
            "Epoch 410: loss = 0.72561\n",
            "Epoch 420: loss = 0.72392\n",
            "Epoch 430: loss = 0.72226\n",
            "Epoch 440: loss = 0.72065\n",
            "Epoch 450: loss = 0.71908\n",
            "Epoch 460: loss = 0.71755\n",
            "Epoch 470: loss = 0.71606\n",
            "Epoch 480: loss = 0.71460\n",
            "Epoch 490: loss = 0.71318\n",
            "Epoch 500: loss = 0.71179\n"
          ]
        }
      ]
    },
    {
      "cell_type": "code",
      "metadata": {
        "id": "toQyqq98-68X",
        "outputId": "e292e23b-5b5d-4746-e3b6-7a47fbb4666e",
        "colab": {
          "base_uri": "https://localhost:8080/",
          "height": 721
        }
      },
      "source": [
        "fig, ax = plt.subplots(1, 1, figsize=(10, 8))\n",
        "\n",
        "ax.set_title('Evolução da função de perda ao longo das épocas')\n",
        "ax.set_ylabel('Valor da função de perda')\n",
        "ax.set_xlabel('Épocas')\n",
        "ax.plot(np.asarray(loss_list))\n",
        "\n",
        "plt.show()"
      ],
      "execution_count": 21,
      "outputs": [
        {
          "output_type": "display_data",
          "data": {
            "text/plain": [
              "<Figure size 1000x800 with 1 Axes>"
            ],
            "image/png": "[encoded data removed]"
          },
          "metadata": {}
        }
      ]
    },
    {
      "cell_type": "code",
      "source": [],
      "metadata": {
        "id": "4aU4-sp5abBh"
      },
      "execution_count": null,
      "outputs": []
    }
  ]
}